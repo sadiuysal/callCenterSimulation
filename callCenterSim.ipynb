{
 "cells": [
  {
   "cell_type": "markdown",
   "metadata": {},
   "source": [
    "# SimPy Project for IE 306.02\n",
    "A call center simulation\n"
   ]
  },
  {
   "cell_type": "markdown",
   "metadata": {},
   "source": [
    "Below we indicate package that we're gonna use."
   ]
  },
  {
   "cell_type": "code",
   "execution_count": 1,
   "metadata": {
    "scrolled": true
   },
   "outputs": [],
   "source": [
    "import simpy\n",
    "import random\n",
    "import numpy as np"
   ]
  },
  {
   "cell_type": "markdown",
   "metadata": {},
   "source": [
    "Define a set of globals that define the characteristics of the model instance to be simulated. This includes the seed (RANDOM_SEED) for the random number generators, and key parameters for the interarrival (i.e. mean arrival rate.)"
   ]
  },
  {
   "cell_type": "code",
   "execution_count": null,
   "metadata": {},
   "outputs": [],
   "source": [
    "\n"
   ]
  },
  {
   "cell_type": "code",
   "execution_count": 2,
   "metadata": {},
   "outputs": [],
   "source": [
    "class G(object): #for global variables such as number of customers\n",
    "    NUMBER_OF_CUSTOMERS = 5000\n",
    "    last_in_q2 = False  #boolean for indicating last customer in queue 2 (expert operator queue)\n",
    "    RANDOM_SEED = 978\n",
    "    INTERARRIVAL_RATE = 1/14.3 #interarrival times exp dist with mean 14.3 min \n",
    "    rnd=random.Random(RANDOM_SEED)\n",
    "    lastt=0"
   ]
  },
  {
   "cell_type": "markdown",
   "metadata": {},
   "source": [
    "Below code segment for the transformation to get values according to logNormal distribution."
   ]
  },
  {
   "cell_type": "code",
   "execution_count": 3,
   "metadata": {
    "scrolled": true
   },
   "outputs": [],
   "source": [
    "m=7.2\n",
    "v=2.7**2\n",
    "mu=np.log(m**2/np.sqrt((v+m**2)))\n",
    "sigma=np.sqrt(np.log(1+(v/m**2)))"
   ]
  },
  {
   "cell_type": "markdown",
   "metadata": {},
   "source": [
    "Define the necessary set of arrays for bookkeeping"
   ]
  },
  {
   "cell_type": "code",
   "execution_count": 4,
   "metadata": {},
   "outputs": [],
   "source": [
    "service1_times = [0.0]*G.NUMBER_OF_CUSTOMERS #Duration of the conversation between the customer and the operator1 (Service time)\n",
    "service2_times = [0.0]*G.NUMBER_OF_CUSTOMERS #Duration of the conversation between the customer and the operator2(Service time)\n",
    "queue1_w_times = [0.0]*G.NUMBER_OF_CUSTOMERS #Time spent by a customer while it waits for the operator1 (Queue waiting time Wq)\n",
    "queue2_w_times = [0.0]*G.NUMBER_OF_CUSTOMERS #Time spent by a customer while it waits for the operator2 (Queue waiting time Wq)"
   ]
  },
  {
   "cell_type": "markdown",
   "metadata": {},
   "source": [
    "\n",
    "* The class definition for the customers arriving at the modeled system. When they are created, they immediatelly initiate a call (i.e. activate the call process). \n",
    "\n",
    "* Once a call is initiated, this is registered as a request to the operator1 resource. The customer is put on hold until the resource activates it back. \n",
    "\n",
    "* When the resource is available, the customer is activated and it then initiates the ask_question process. The duration of a question-answer session is determined randomly according to a logNormal and exponential distribution."
   ]
  },
  {
   "cell_type": "markdown",
   "metadata": {},
   "source": [
    "Below code segment works as follows:\n",
    "    Incoming calls are first processed by the unskilled front-desk operator who records the\n",
    "    personal details of the caller and the nature of the caller's request. When the operator is\n",
    "    busy the customers are put on hold (they wait in a FCFS queue). \n",
    "    Once this process is completed, the caller is directed to the expert operator, who tries to\n",
    "    help the caller with his/her problem. As in the previous case, if the expert is busy the\n",
    "    customers are put on hold (they wait in a FCFS queue)."
   ]
  },
  {
   "cell_type": "code",
   "execution_count": 5,
   "metadata": {},
   "outputs": [],
   "source": [
    "class Customer(object): #customer class\n",
    "    def __init__(self, name, env):  #constructor \n",
    "        self.env = env \n",
    "        self.name = name\n",
    "        self.arrival_t = float(self.env.now) #cast to float\n",
    "        self.arrival_t2 = 0  \n",
    "        self.action = env.process(self.call())  #immediate call to operator1\n",
    "    \n",
    "    def call(self):\n",
    "        #print('%s initiated a call to operator1 at %g' % (self.name, self.env.now)) \n",
    "        with operator1.request() as req:\n",
    "            yield req  #request to resource operator 1\n",
    "            #print('%s is assigned to operator1 at %g' % (self.name, self.env.now))\n",
    "            queue1_w_times[int(self.name[5:])-1] = (float(self.env.now) - self.arrival_t) #update queue waiting times\n",
    "            yield self.env.process(self.ask_question()) #request service from operator1\n",
    "            #print('%s is done in  operator1 at %g' % (self.name, self.env.now))\n",
    "            self.arrival_t2 = float(self.env.now) #arrival to queue of expert operator\n",
    "            env.process(self.call2()) #call to expert operator\n",
    "            \n",
    "    \n",
    "    def call2(self):\n",
    "        #print('-- %s initiated a call to operator2 at %g' % (self.name, self.env.now))\n",
    "        if self.name == ('Cust %s' %(G.NUMBER_OF_CUSTOMERS)): #check if customer is last or not\n",
    "            G.last_in_q2 = True\n",
    "        with operator2.request() as req: \n",
    "            br = G.rnd.expovariate(1/60)  #random variable with exp.dist with mean 60min\n",
    "            bored = env.timeout(br) #timeout br minutes\n",
    "            yield req | bored \n",
    "            if not req.triggered: #checks if customer bored and leaved the queue\n",
    "                #print('++ %s got bored and left the queue at %g' % (self.name, self.env.now))\n",
    "                queue2_w_times[int(self.name[5:])-1] = (float(self.env.now) - self.arrival_t2) #update queue2 waiting times\n",
    "            else:\n",
    "                queue2_w_times[int(self.name[5:])-1] = (float(self.env.now) - self.arrival_t2) #update queue2 waiting times\n",
    "                #print('%s is assigned to an operator2 at %g' % (self.name, self.env.now))\n",
    "                yield self.env.process(self.ask_question2()) #request service from expert operator\n",
    "                #print('%s is done in second operator2 at %g' % (self.name, self.env.now))\n",
    "                G.lastt=float(self.env.now) #update last customer service time\n",
    "\n",
    "    def ask_question(self):#operator1 call duration\n",
    "        duration = G.rnd.lognormvariate(mu, sigma) #logNormal dist. duration for operator1 service\n",
    "        yield self.env.timeout(duration) #getting service\n",
    "        service1_times[int(self.name[5:])-1] = float(duration) #update service time queue\n",
    "    \n",
    "    def ask_question2(self):#operator2 call duration\n",
    "        duration2 = G.rnd.expovariate(1/10.2)#expert operator service time exp.dis with mean 10.2\n",
    "        yield self.env.timeout(duration2) #getting service\n",
    "        service2_times[int(self.name[5:])-1] = (duration2) #update service time queue"
   ]
  },
  {
   "cell_type": "markdown",
   "metadata": {},
   "source": [
    "Above code segment>>>Service operation for operator1:\n",
    "The time it takes to collect and record the details of a caller is assumed to be LogNormal\n",
    "distributed with mean 7.2 and standard deviation of 2.7 minutes\n",
    "Service operation for operator2:\n",
    "The service time of the expert is Exponentially distributed with mean 10.2 minutes"
   ]
  },
  {
   "cell_type": "markdown",
   "metadata": {},
   "source": [
    "Below code segment a class for the Expert operator to give break as explained:\n",
    "The expert operator takes 3-min breaks randomly through out the day. When the\n",
    "operator decides to take a break, he/she waits until completing all the customers already\n",
    "waiting for her/him. If new customers arrive during operators break, they wait in the\n",
    "FCFS queue until the operator serves them. The operator resumes service after the break."
   ]
  },
  {
   "cell_type": "code",
   "execution_count": 6,
   "metadata": {},
   "outputs": [],
   "source": [
    "class Expert(object): \n",
    "    def __init__(self, env): #constructor\n",
    "        self.env = env\n",
    "        self.action = env.process(self.giveBreak()) #call give break\n",
    "\n",
    "    def giveBreak(self):\n",
    "        while not G.last_in_q2: #checks if customer is last or not\n",
    "            tired = G.rnd.expovariate(1/60) #random exp. wariable with mean 60min\n",
    "            yield self.env.timeout(tired) #work \"tired\" minutes and deciding a break\n",
    "            with operator2.request() as req:         \n",
    "                #print(\"expert got tired at %g\" % (self.env.now))\n",
    "                yield req #request to get expert operator and take a break\n",
    "                #print(\"expert took a break at %g\" % (self.env.now))\n",
    "                yield self.env.timeout(3) #take 3minutes break and get back to work\n",
    "                #print(\"expert returned to work at %g\" % (self.env.now))\n",
    "            "
   ]
  },
  {
   "cell_type": "markdown",
   "metadata": {},
   "source": [
    "Below code segment works as a customer generator as follows:\n",
    "The inter-arrival times of calls are exponentially distributed with mean 14.3 min.\n"
   ]
  },
  {
   "cell_type": "code",
   "execution_count": 7,
   "metadata": {},
   "outputs": [],
   "source": [
    "def customer_generator(env): #generating customer arrivals\n",
    "    #Generate new calls that arrive at the call station.\n",
    "    expert = Expert(env)#generate a expert object for 3minutes breaks.\n",
    "    for i in range(G.NUMBER_OF_CUSTOMERS): #generate customers\n",
    "        yield env.timeout(G.rnd.expovariate(G.INTERARRIVAL_RATE)) #inter-arrival times exp.dist with mean 14.3 min\n",
    "        customer = Customer('Cust %s' %(i+1), env)  #generate customer i"
   ]
  },
  {
   "cell_type": "code",
   "execution_count": 8,
   "metadata": {},
   "outputs": [],
   "source": [
    "env = simpy.Environment() #creating environment\n",
    "operator1 = simpy.Resource(env, capacity = 1) #create operator1 as resource\n",
    "operator2 = simpy.Resource(env, capacity = 1) #create expert operator as resorce\n",
    "env.process(customer_generator(env)) #process customer generator function\n",
    "env.run() #run the simulation"
   ]
  },
  {
   "cell_type": "code",
   "execution_count": 9,
   "metadata": {
    "scrolled": true
   },
   "outputs": [],
   "source": [
    "#print(queue2_w_times) \n",
    "#print(queue1_w_times) \n",
    "#print(service2_times) "
   ]
  },
  {
   "cell_type": "code",
   "execution_count": 10,
   "metadata": {},
   "outputs": [
    {
     "name": "stdout",
     "output_type": "stream",
     "text": [
      "0.494385955779248\n",
      "0.6121770949790821\n",
      "11.597779500532873\n",
      "0.9618395727619385\n",
      "0.5415170180098235\n"
     ]
    }
   ],
   "source": [
    "#Gather statistics\n",
    "op1_service_t = 0 #service time for operators\n",
    "op2_service_t = 0\n",
    "q1_tot_w_t = 0#total waiting times for customers\n",
    "q2_tot_w_t = 0\n",
    "max_ratio = 0   #the maximum \"total waiting time\" to \"total service time\" ratio\n",
    "for i in range(G.NUMBER_OF_CUSTOMERS):#sum and find the total values\n",
    "    op1_service_t += service1_times[i]\n",
    "    op2_service_t += service2_times[i]\n",
    "    q1_tot_w_t += queue1_w_times[i]\n",
    "    q2_tot_w_t += queue2_w_times[i]\n",
    "    ratio = (queue1_w_times[i] + queue2_w_times[i]) / (service1_times[i] + service2_times[i]+queue1_w_times[i] + queue2_w_times[i]) #find ratio\n",
    "    if ratio > max_ratio:  #find max ratio\n",
    "        max_ratio = ratio   \n",
    "\n",
    "#Calculate the utilization of the front-desk operator and the expert operator\n",
    "op1_utilization = op1_service_t / G.lastt    #utilization of the front-desk op\n",
    "op2_utilization = op2_service_t / G.lastt    #utilization of the expert op\n",
    "\n",
    "#Calculate the average total waiting time\n",
    "avg_tot_w_t = (q1_tot_w_t + q2_tot_w_t) / G.NUMBER_OF_CUSTOMERS\n",
    "\n",
    "#Calculate the maximum \"total waiting time\" to \"total service time\" ratio\n",
    "max_ratio\n",
    "\n",
    "#Calculate the average number of people waiting to be served by the expert operator\n",
    "avg_w_in_q2 = q2_tot_w_t / G.lastt\n",
    "\n",
    "print(op1_utilization)\n",
    "print(op2_utilization)\n",
    "print(avg_tot_w_t)\n",
    "print(max_ratio)\n",
    "print(avg_w_in_q2)"
   ]
  },
  {
   "cell_type": "code",
   "execution_count": null,
   "metadata": {},
   "outputs": [],
   "source": [
    "\n"
   ]
  },
  {
   "cell_type": "code",
   "execution_count": null,
   "metadata": {},
   "outputs": [],
   "source": []
  },
  {
   "cell_type": "code",
   "execution_count": null,
   "metadata": {},
   "outputs": [],
   "source": []
  },
  {
   "cell_type": "code",
   "execution_count": null,
   "metadata": {},
   "outputs": [],
   "source": []
  }
 ],
 "metadata": {
  "kernelspec": {
   "display_name": "Python 3",
   "language": "python",
   "name": "python3"
  },
  "language_info": {
   "codemirror_mode": {
    "name": "ipython",
    "version": 3
   },
   "file_extension": ".py",
   "mimetype": "text/x-python",
   "name": "python",
   "nbconvert_exporter": "python",
   "pygments_lexer": "ipython3",
   "version": "3.7.1"
  }
 },
 "nbformat": 4,
 "nbformat_minor": 2
}
